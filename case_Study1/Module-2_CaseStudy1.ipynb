{
 "cells": [
  {
   "cell_type": "markdown",
   "id": "7bb67741",
   "metadata": {},
   "source": [
    "<h1><center>Module 2 - CASE STUDY 1<center></h1>"
   ]
  },
  {
   "cell_type": "markdown",
   "id": "a8492eef",
   "metadata": {},
   "source": [
    "### 1 Write a program that will find factors of the given number and find whether factor is even or odd."
   ]
  },
  {
   "cell_type": "code",
   "execution_count": 59,
   "id": "1d2c57ea",
   "metadata": {},
   "outputs": [
    {
     "name": "stdout",
     "output_type": "stream",
     "text": [
      "Enter the number: 36\n",
      "1 is odd\n",
      "2 is even\n",
      "3 is odd\n",
      "4 is even\n",
      "6 is even\n",
      "9 is odd\n",
      "12 is even\n",
      "18 is even\n",
      "36 is even\n",
      "The factrors of 36 are: [1, 2, 3, 4, 6, 9, 12, 18, 36]\n"
     ]
    }
   ],
   "source": [
    "num = int(input(\"Enter the number: \"))\n",
    "factors = []\n",
    "\n",
    "for f in range(1, num + 1):\n",
    "    \n",
    "    if num % f == 0:\n",
    "        factors.append(f) #append it as it is a factor\n",
    "        \n",
    "        if f & 1:\n",
    "            print(f\"{f} is odd\")\n",
    "        else:\n",
    "            print(f\"{f} is even\")\n",
    "            \n",
    "print(f\"The factrors of {num} are: {factors}\")"
   ]
  },
  {
   "cell_type": "markdown",
   "id": "3d6e08ba",
   "metadata": {},
   "source": [
    "### 2. Write a code that accepts a sequence of words as input and prints the words in a sequence after sorting them alphabetically."
   ]
  },
  {
   "cell_type": "code",
   "execution_count": 60,
   "id": "58a1e094",
   "metadata": {},
   "outputs": [
    {
     "name": "stdout",
     "output_type": "stream",
     "text": [
      "Enter the sequence of words: Mango Apple Banana Grapes Kiwi\n",
      "Entered words are:  Mango Apple Banana Grapes Kiwi\n",
      "sorted words are: Apple Banana Grapes Kiwi Mango\n"
     ]
    }
   ],
   "source": [
    "words = input(\"Enter the sequence of words: \")\n",
    "print(f\"Entered words are:  {words}\")\n",
    "\n",
    "l = words.split()\n",
    "l.sort()\n",
    "print(\"sorted words are: \", end=\"\")\n",
    "print(\" \".join(l))"
   ]
  },
  {
   "cell_type": "markdown",
   "id": "a06b6cf7",
   "metadata": {},
   "source": [
    "### 3. Write a program, which will find all the numbers between 1000 and 3000 (both included) such that each digit of a number is an even number. The numbers obtained should be printed in a comma-separated sequence on a single line."
   ]
  },
  {
   "cell_type": "code",
   "execution_count": 61,
   "id": "bd999da4",
   "metadata": {},
   "outputs": [
    {
     "name": "stdout",
     "output_type": "stream",
     "text": [
      "2000,2002,2004,2006,2008,2020,2022,2024,2026,2028,2040,2042,2044,2046,2048,2060,2062,2064,2066,2068,2080,2082,2084,2086,2088,2200,2202,2204,2206,2208,2220,2222,2224,2226,2228,2240,2242,2244,2246,2248,2260,2262,2264,2266,2268,2280,2282,2284,2286,2288,2400,2402,2404,2406,2408,2420,2422,2424,2426,2428,2440,2442,2444,2446,2448,2460,2462,2464,2466,2468,2480,2482,2484,2486,2488,2600,2602,2604,2606,2608,2620,2622,2624,2626,2628,2640,2642,2644,2646,2648,2660,2662,2664,2666,2668,2680,2682,2684,2686,2688,2800,2802,2804,2806,2808,2820,2822,2824,2826,2828,2840,2842,2844,2846,2848,2860,2862,2864,2866,2868,2880,2882,2884,2886,2888,"
     ]
    }
   ],
   "source": [
    "for num in range(1000, 3001):\n",
    "    flag = False\n",
    "    for i in str(num):\n",
    "        if int(i) & 1: # if digit not even no need to add into list\n",
    "            flag = True\n",
    "            break\n",
    "    if not flag:\n",
    "        print(num, end=\",\")"
   ]
  },
  {
   "cell_type": "markdown",
   "id": "6d1e63e5",
   "metadata": {},
   "source": [
    "### 4. Write a program that accepts a sentence and calculates the number of letters and digits."
   ]
  },
  {
   "cell_type": "code",
   "execution_count": 62,
   "id": "12da25a5",
   "metadata": {},
   "outputs": [
    {
     "name": "stdout",
     "output_type": "stream",
     "text": [
      "Enter sentence: python0234512\n",
      "number of digits: 7\n",
      "number of letters: 6\n"
     ]
    }
   ],
   "source": [
    "sen = input(\"Enter sentence: \")\n",
    "letters, digits = 0, 0\n",
    "\n",
    "for i in sen:\n",
    "    if i.isdigit():\n",
    "        digits += 1\n",
    "    else:\n",
    "        letters += 1\n",
    "print(f\"number of digits: {digits}\")\n",
    "print(f\"number of letters: {letters}\")"
   ]
  },
  {
   "cell_type": "markdown",
   "id": "c253db5b",
   "metadata": {},
   "source": [
    "### 5. Design a code that will find whether the given number is a Palindrome number or not."
   ]
  },
  {
   "cell_type": "code",
   "execution_count": null,
   "id": "92e55f5f",
   "metadata": {},
   "outputs": [],
   "source": [
    "number = input(\"Enter a number to check for plaindrome: \")\n",
    "\n",
    "print(True) if number == number[::-1] else print(False)  "
   ]
  },
  {
   "cell_type": "code",
   "execution_count": null,
   "id": "721d263e",
   "metadata": {},
   "outputs": [],
   "source": []
  }
 ],
 "metadata": {
  "kernelspec": {
   "display_name": "Python 3",
   "language": "python",
   "name": "python3"
  },
  "language_info": {
   "codemirror_mode": {
    "name": "ipython",
    "version": 3
   },
   "file_extension": ".py",
   "mimetype": "text/x-python",
   "name": "python",
   "nbconvert_exporter": "python",
   "pygments_lexer": "ipython3",
   "version": "3.8.8"
  }
 },
 "nbformat": 4,
 "nbformat_minor": 5
}
