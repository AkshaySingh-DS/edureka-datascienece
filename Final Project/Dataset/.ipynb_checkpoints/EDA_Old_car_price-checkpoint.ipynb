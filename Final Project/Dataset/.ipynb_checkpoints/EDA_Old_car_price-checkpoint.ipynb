{
 "cells": [
  {
   "cell_type": "markdown",
   "id": "bb03da82",
   "metadata": {},
   "source": [
    "<h1> <center>EDA (Exploratory Data Analysis) Analysis On Cars Price IBM <center></h1> "
   ]
  },
  {
   "cell_type": "markdown",
   "id": "6e7f4ba8",
   "metadata": {},
   "source": [
    "* Univariate Analysis:\n",
    "    * Bar Charts (Catogorical feature)\n",
    "    * Histograms (continous varaible) \n",
    "\n",
    "* Bivariate Analysis:\n",
    "    * Scatter plot (continous varaible -  Numerical-Numerical)\n",
    "    * Chi-square Test ((Categorical-Categorical)\n",
    "    * Z-Test/T-Test Bivariate Analysis of one numerical and one categorical variable \n",
    "    * ANALYSIS OF VARIANCE (ANOVA)"
   ]
  },
  {
   "cell_type": "code",
   "execution_count": 12,
   "id": "d438affc",
   "metadata": {},
   "outputs": [],
   "source": [
    "import seaborn as sns\n",
    "import pandas as pd\n",
    "import matplotlib.pyplot as plt"
   ]
  },
  {
   "cell_type": "code",
   "execution_count": 7,
   "id": "23e6995f",
   "metadata": {},
   "outputs": [
    {
     "data": {
      "text/html": [
       "<div>\n",
       "<style scoped>\n",
       "    .dataframe tbody tr th:only-of-type {\n",
       "        vertical-align: middle;\n",
       "    }\n",
       "\n",
       "    .dataframe tbody tr th {\n",
       "        vertical-align: top;\n",
       "    }\n",
       "\n",
       "    .dataframe thead th {\n",
       "        text-align: right;\n",
       "    }\n",
       "</style>\n",
       "<table border=\"1\" class=\"dataframe\">\n",
       "  <thead>\n",
       "    <tr style=\"text-align: right;\">\n",
       "      <th></th>\n",
       "      <th>Id</th>\n",
       "      <th>year</th>\n",
       "      <th>brand</th>\n",
       "      <th>full_model_name</th>\n",
       "      <th>model_name</th>\n",
       "      <th>price</th>\n",
       "      <th>distance_travelled(kms)</th>\n",
       "      <th>fuel_type</th>\n",
       "      <th>city</th>\n",
       "      <th>brand_rank</th>\n",
       "      <th>car_age</th>\n",
       "    </tr>\n",
       "  </thead>\n",
       "  <tbody>\n",
       "    <tr>\n",
       "      <th>0</th>\n",
       "      <td>0</td>\n",
       "      <td>2016</td>\n",
       "      <td>Honda</td>\n",
       "      <td>Honda Brio S MT</td>\n",
       "      <td>Brio</td>\n",
       "      <td>425000.0</td>\n",
       "      <td>9680.0</td>\n",
       "      <td>Petrol</td>\n",
       "      <td>Mumbai</td>\n",
       "      <td>7</td>\n",
       "      <td>5.0</td>\n",
       "    </tr>\n",
       "    <tr>\n",
       "      <th>1</th>\n",
       "      <td>1</td>\n",
       "      <td>2012</td>\n",
       "      <td>Nissan</td>\n",
       "      <td>Nissan Sunny XV Diesel</td>\n",
       "      <td>Sunny</td>\n",
       "      <td>325000.0</td>\n",
       "      <td>119120.0</td>\n",
       "      <td>Diesel</td>\n",
       "      <td>Mumbai</td>\n",
       "      <td>11</td>\n",
       "      <td>9.0</td>\n",
       "    </tr>\n",
       "    <tr>\n",
       "      <th>2</th>\n",
       "      <td>2</td>\n",
       "      <td>2017</td>\n",
       "      <td>Toyota</td>\n",
       "      <td>Toyota Fortuner 2.8 4x2 MT [2016-2020]</td>\n",
       "      <td>Fortuner</td>\n",
       "      <td>2650000.0</td>\n",
       "      <td>64593.0</td>\n",
       "      <td>Diesel</td>\n",
       "      <td>Thane</td>\n",
       "      <td>1</td>\n",
       "      <td>4.0</td>\n",
       "    </tr>\n",
       "    <tr>\n",
       "      <th>3</th>\n",
       "      <td>3</td>\n",
       "      <td>2017</td>\n",
       "      <td>Mercedes-Benz</td>\n",
       "      <td>Mercedes-Benz E-Class E 220d Expression [2019-...</td>\n",
       "      <td>E-Class</td>\n",
       "      <td>4195000.0</td>\n",
       "      <td>25000.0</td>\n",
       "      <td>Diesel</td>\n",
       "      <td>Mumbai</td>\n",
       "      <td>2</td>\n",
       "      <td>4.0</td>\n",
       "    </tr>\n",
       "    <tr>\n",
       "      <th>4</th>\n",
       "      <td>4</td>\n",
       "      <td>2012</td>\n",
       "      <td>Hyundai</td>\n",
       "      <td>Hyundai Verna Fluidic 1.6 CRDi SX</td>\n",
       "      <td>Verna</td>\n",
       "      <td>475000.0</td>\n",
       "      <td>23800.0</td>\n",
       "      <td>Diesel</td>\n",
       "      <td>Mumbai</td>\n",
       "      <td>14</td>\n",
       "      <td>9.0</td>\n",
       "    </tr>\n",
       "  </tbody>\n",
       "</table>\n",
       "</div>"
      ],
      "text/plain": [
       "   Id  year          brand                                    full_model_name  \\\n",
       "0   0  2016          Honda                                    Honda Brio S MT   \n",
       "1   1  2012         Nissan                             Nissan Sunny XV Diesel   \n",
       "2   2  2017         Toyota             Toyota Fortuner 2.8 4x2 MT [2016-2020]   \n",
       "3   3  2017  Mercedes-Benz  Mercedes-Benz E-Class E 220d Expression [2019-...   \n",
       "4   4  2012        Hyundai                  Hyundai Verna Fluidic 1.6 CRDi SX   \n",
       "\n",
       "  model_name      price  distance_travelled(kms) fuel_type    city  \\\n",
       "0       Brio   425000.0                   9680.0    Petrol  Mumbai   \n",
       "1      Sunny   325000.0                 119120.0    Diesel  Mumbai   \n",
       "2   Fortuner  2650000.0                  64593.0    Diesel   Thane   \n",
       "3    E-Class  4195000.0                  25000.0    Diesel  Mumbai   \n",
       "4      Verna   475000.0                  23800.0    Diesel  Mumbai   \n",
       "\n",
       "   brand_rank  car_age  \n",
       "0           7      5.0  \n",
       "1          11      9.0  \n",
       "2           1      4.0  \n",
       "3           2      4.0  \n",
       "4          14      9.0  "
      ]
     },
     "execution_count": 7,
     "metadata": {},
     "output_type": "execute_result"
    }
   ],
   "source": [
    "cars_df = pd.read_csv('cars.csv')\n",
    "cars_df.head()"
   ]
  },
  {
   "cell_type": "markdown",
   "id": "99a3b4fc",
   "metadata": {},
   "source": [
    "<h2>Continuous Numerical Variables</h2>"
   ]
  },
  {
   "cell_type": "code",
   "execution_count": 62,
   "id": "369b95ed",
   "metadata": {},
   "outputs": [
    {
     "data": {
      "image/png": "[encoded data removed]",
      "text/plain": [
       "<Figure size 864x720 with 1 Axes>"
      ]
     },
     "metadata": {
      "needs_background": "light"
     },
     "output_type": "display_data"
    }
   ],
   "source": [
    "# Car Age and Price Feature Relationship \n",
    "width = 12\n",
    "height = 10\n",
    "plt.figure(figsize=(width, height))\n",
    "sns.regplot(data = cars_df, x='car_age', y='price', marker=\"+\")\n",
    "plt.xlabel('car_age')\n",
    "plt.ylabel('price')\n",
    "plt.show()"
   ]
  },
  {
   "cell_type": "code",
   "execution_count": 26,
   "id": "e35f3e41",
   "metadata": {},
   "outputs": [
    {
     "data": {
      "text/html": [
       "<div>\n",
       "<style scoped>\n",
       "    .dataframe tbody tr th:only-of-type {\n",
       "        vertical-align: middle;\n",
       "    }\n",
       "\n",
       "    .dataframe tbody tr th {\n",
       "        vertical-align: top;\n",
       "    }\n",
       "\n",
       "    .dataframe thead th {\n",
       "        text-align: right;\n",
       "    }\n",
       "</style>\n",
       "<table border=\"1\" class=\"dataframe\">\n",
       "  <thead>\n",
       "    <tr style=\"text-align: right;\">\n",
       "      <th></th>\n",
       "      <th>car_age</th>\n",
       "      <th>price</th>\n",
       "    </tr>\n",
       "  </thead>\n",
       "  <tbody>\n",
       "    <tr>\n",
       "      <th>car_age</th>\n",
       "      <td>1.000000</td>\n",
       "      <td>-0.288483</td>\n",
       "    </tr>\n",
       "    <tr>\n",
       "      <th>price</th>\n",
       "      <td>-0.288483</td>\n",
       "      <td>1.000000</td>\n",
       "    </tr>\n",
       "  </tbody>\n",
       "</table>\n",
       "</div>"
      ],
      "text/plain": [
       "          car_age     price\n",
       "car_age  1.000000 -0.288483\n",
       "price   -0.288483  1.000000"
      ]
     },
     "execution_count": 26,
     "metadata": {},
     "output_type": "execute_result"
    }
   ],
   "source": [
    "cars_df[[\"car_age\", \"price\"]].corr()"
   ]
  },
  {
   "cell_type": "markdown",
   "id": "0d6655cc",
   "metadata": {},
   "source": [
    "* weak `-ve` correlationship b/w price & car_age"
   ]
  },
  {
   "cell_type": "code",
   "execution_count": 63,
   "id": "8e5d784f",
   "metadata": {},
   "outputs": [
    {
     "data": {
      "image/png": "[encoded data removed]",
      "text/plain": [
       "<Figure size 864x720 with 1 Axes>"
      ]
     },
     "metadata": {
      "needs_background": "light"
     },
     "output_type": "display_data"
    }
   ],
   "source": [
    "# and Price Feature Relationship \n",
    "width = 12\n",
    "height = 10\n",
    "plt.figure(figsize=(width, height))\n",
    "sns.regplot(data = cars_df, x='year', y='price', marker=\"+\")\n",
    "plt.xlabel('year')\n",
    "plt.ylabel('price')\n",
    "plt.show()"
   ]
  },
  {
   "cell_type": "code",
   "execution_count": 28,
   "id": "bf1b7ad7",
   "metadata": {},
   "outputs": [
    {
     "data": {
      "text/html": [
       "<div>\n",
       "<style scoped>\n",
       "    .dataframe tbody tr th:only-of-type {\n",
       "        vertical-align: middle;\n",
       "    }\n",
       "\n",
       "    .dataframe tbody tr th {\n",
       "        vertical-align: top;\n",
       "    }\n",
       "\n",
       "    .dataframe thead th {\n",
       "        text-align: right;\n",
       "    }\n",
       "</style>\n",
       "<table border=\"1\" class=\"dataframe\">\n",
       "  <thead>\n",
       "    <tr style=\"text-align: right;\">\n",
       "      <th></th>\n",
       "      <th>year</th>\n",
       "      <th>price</th>\n",
       "    </tr>\n",
       "  </thead>\n",
       "  <tbody>\n",
       "    <tr>\n",
       "      <th>year</th>\n",
       "      <td>1.000000</td>\n",
       "      <td>0.288483</td>\n",
       "    </tr>\n",
       "    <tr>\n",
       "      <th>price</th>\n",
       "      <td>0.288483</td>\n",
       "      <td>1.000000</td>\n",
       "    </tr>\n",
       "  </tbody>\n",
       "</table>\n",
       "</div>"
      ],
      "text/plain": [
       "           year     price\n",
       "year   1.000000  0.288483\n",
       "price  0.288483  1.000000"
      ]
     },
     "execution_count": 28,
     "metadata": {},
     "output_type": "execute_result"
    }
   ],
   "source": [
    "cars_df[[\"year\", \"price\"]].corr()"
   ]
  },
  {
   "cell_type": "markdown",
   "id": "659f4ffc",
   "metadata": {},
   "source": [
    "* weak `+ve` correlation b/w year & price"
   ]
  },
  {
   "cell_type": "code",
   "execution_count": 64,
   "id": "a0b86845",
   "metadata": {},
   "outputs": [
    {
     "data": {
      "image/png": "[encoded data removed]",
      "text/plain": [
       "<Figure size 864x720 with 1 Axes>"
      ]
     },
     "metadata": {
      "needs_background": "light"
     },
     "output_type": "display_data"
    }
   ],
   "source": [
    "# distance_travelled(kms) and Price Feature Relationship \n",
    "width = 12\n",
    "height = 10\n",
    "plt.figure(figsize=(width, height))\n",
    "sns.regplot(data = cars_df, x='distance_travelled(kms)', y='price')\n",
    "plt.xlabel('distance_travelled(kms)')\n",
    "plt.ylabel('price')\n",
    "plt.show()"
   ]
  },
  {
   "cell_type": "code",
   "execution_count": 30,
   "id": "bced18d8",
   "metadata": {},
   "outputs": [
    {
     "data": {
      "text/html": [
       "<div>\n",
       "<style scoped>\n",
       "    .dataframe tbody tr th:only-of-type {\n",
       "        vertical-align: middle;\n",
       "    }\n",
       "\n",
       "    .dataframe tbody tr th {\n",
       "        vertical-align: top;\n",
       "    }\n",
       "\n",
       "    .dataframe thead th {\n",
       "        text-align: right;\n",
       "    }\n",
       "</style>\n",
       "<table border=\"1\" class=\"dataframe\">\n",
       "  <thead>\n",
       "    <tr style=\"text-align: right;\">\n",
       "      <th></th>\n",
       "      <th>distance_travelled(kms)</th>\n",
       "      <th>price</th>\n",
       "    </tr>\n",
       "  </thead>\n",
       "  <tbody>\n",
       "    <tr>\n",
       "      <th>distance_travelled(kms)</th>\n",
       "      <td>1.000000</td>\n",
       "      <td>-0.137351</td>\n",
       "    </tr>\n",
       "    <tr>\n",
       "      <th>price</th>\n",
       "      <td>-0.137351</td>\n",
       "      <td>1.000000</td>\n",
       "    </tr>\n",
       "  </tbody>\n",
       "</table>\n",
       "</div>"
      ],
      "text/plain": [
       "                         distance_travelled(kms)     price\n",
       "distance_travelled(kms)                 1.000000 -0.137351\n",
       "price                                  -0.137351  1.000000"
      ]
     },
     "execution_count": 30,
     "metadata": {},
     "output_type": "execute_result"
    }
   ],
   "source": [
    "cars_df[[\"distance_travelled(kms)\", \"price\"]].corr()"
   ]
  },
  {
   "cell_type": "markdown",
   "id": "3ac04109",
   "metadata": {},
   "source": [
    "* seems weak linear `-ve` correlation b/w year & price"
   ]
  },
  {
   "cell_type": "code",
   "execution_count": 65,
   "id": "60086d8b",
   "metadata": {},
   "outputs": [
    {
     "data": {
      "image/png": "[encoded data removed]",
      "text/plain": [
       "<Figure size 864x720 with 1 Axes>"
      ]
     },
     "metadata": {
      "needs_background": "light"
     },
     "output_type": "display_data"
    }
   ],
   "source": [
    "# brand_rank and Price Feature Relationship \n",
    "width = 12\n",
    "height = 10\n",
    "plt.figure(figsize=(width, height))\n",
    "sns.regplot(data = cars_df, x='brand_rank', y='price')\n",
    "plt.xlabel('brand_rank')\n",
    "plt.ylabel('price')\n",
    "plt.show()"
   ]
  },
  {
   "cell_type": "code",
   "execution_count": 29,
   "id": "f3a49ee5",
   "metadata": {},
   "outputs": [
    {
     "data": {
      "text/html": [
       "<div>\n",
       "<style scoped>\n",
       "    .dataframe tbody tr th:only-of-type {\n",
       "        vertical-align: middle;\n",
       "    }\n",
       "\n",
       "    .dataframe tbody tr th {\n",
       "        vertical-align: top;\n",
       "    }\n",
       "\n",
       "    .dataframe thead th {\n",
       "        text-align: right;\n",
       "    }\n",
       "</style>\n",
       "<table border=\"1\" class=\"dataframe\">\n",
       "  <thead>\n",
       "    <tr style=\"text-align: right;\">\n",
       "      <th></th>\n",
       "      <th>brand_rank</th>\n",
       "      <th>price</th>\n",
       "    </tr>\n",
       "  </thead>\n",
       "  <tbody>\n",
       "    <tr>\n",
       "      <th>brand_rank</th>\n",
       "      <td>1.000000</td>\n",
       "      <td>-0.164591</td>\n",
       "    </tr>\n",
       "    <tr>\n",
       "      <th>price</th>\n",
       "      <td>-0.164591</td>\n",
       "      <td>1.000000</td>\n",
       "    </tr>\n",
       "  </tbody>\n",
       "</table>\n",
       "</div>"
      ],
      "text/plain": [
       "            brand_rank     price\n",
       "brand_rank    1.000000 -0.164591\n",
       "price        -0.164591  1.000000"
      ]
     },
     "execution_count": 29,
     "metadata": {},
     "output_type": "execute_result"
    }
   ],
   "source": [
    "cars_df[[\"brand_rank\", \"price\"]].corr()"
   ]
  },
  {
   "cell_type": "markdown",
   "id": "6abf9481",
   "metadata": {},
   "source": [
    "* seems weak +ve correlation b/w year & price"
   ]
  },
  {
   "cell_type": "markdown",
   "id": "000bb87a",
   "metadata": {},
   "source": [
    "<h2>Categorical Variables</h2>"
   ]
  },
  {
   "cell_type": "code",
   "execution_count": 66,
   "id": "d9cdc0b7",
   "metadata": {},
   "outputs": [
    {
     "data": {
      "image/png": "[encoded data removed]",
      "text/plain": [
       "<Figure size 864x720 with 1 Axes>"
      ]
     },
     "metadata": {
      "needs_background": "light"
     },
     "output_type": "display_data"
    }
   ],
   "source": [
    "width = 12\n",
    "height = 10\n",
    "plt.figure(figsize=(width, height))\n",
    "sns.boxplot(x=\"brand\", y=\"price\", data=cars_df)\n",
    "plt.xlabel('brand_rank')\n",
    "plt.ylabel('price')\n",
    "plt.show()"
   ]
  },
  {
   "cell_type": "code",
   "execution_count": 67,
   "id": "2d07d2b3",
   "metadata": {},
   "outputs": [
    {
     "data": {
      "image/png": "[encoded data removed]",
      "text/plain": [
       "<Figure size 864x720 with 1 Axes>"
      ]
     },
     "metadata": {
      "needs_background": "light"
     },
     "output_type": "display_data"
    }
   ],
   "source": [
    "width = 12\n",
    "height = 10\n",
    "plt.figure(figsize=(width, height))\n",
    "sns.boxplot(x=\"model_name\", y=\"price\", data=cars_df)\n",
    "plt.xlabel('model_name')\n",
    "plt.ylabel('price')\n",
    "plt.show()"
   ]
  },
  {
   "cell_type": "code",
   "execution_count": 69,
   "id": "0a11ca4b",
   "metadata": {},
   "outputs": [
    {
     "data": {
      "image/png": "[encoded data removed]",
      "text/plain": [
       "<Figure size 864x720 with 1 Axes>"
      ]
     },
     "metadata": {
      "needs_background": "light"
     },
     "output_type": "display_data"
    }
   ],
   "source": [
    "width = 12\n",
    "height = 10\n",
    "plt.figure(figsize=(width, height))\n",
    "sns.boxplot(x=\"fuel_type\", y=\"price\", data=cars_df)\n",
    "plt.xlabel('fuel_type')\n",
    "plt.ylabel('price')\n",
    "plt.show()"
   ]
  },
  {
   "cell_type": "markdown",
   "id": "bbd0207c",
   "metadata": {},
   "source": [
    "* We can see here that the is not much overlapped b/w the categories so this could be the good candidadte to determine the price of used cars however we could see there are few outliers is present."
   ]
  },
  {
   "cell_type": "code",
   "execution_count": 70,
   "id": "f95859db",
   "metadata": {},
   "outputs": [
    {
     "data": {
      "image/png": "[encoded data removed]",
      "text/plain": [
       "<Figure size 864x720 with 1 Axes>"
      ]
     },
     "metadata": {
      "needs_background": "light"
     },
     "output_type": "display_data"
    }
   ],
   "source": [
    "width = 12\n",
    "height = 10\n",
    "plt.figure(figsize=(width, height))\n",
    "sns.boxplot(x=\"city\", y=\"price\", data=cars_df)\n",
    "plt.xlabel('city')\n",
    "plt.ylabel('price')\n",
    "plt.show()"
   ]
  },
  {
   "cell_type": "markdown",
   "id": "c57cc47d",
   "metadata": {},
   "source": [
    " <h2>Descriptive Statistical Analysis</h2>"
   ]
  },
  {
   "cell_type": "code",
   "execution_count": 37,
   "id": "ab150dfa",
   "metadata": {},
   "outputs": [
    {
     "data": {
      "text/html": [
       "<div>\n",
       "<style scoped>\n",
       "    .dataframe tbody tr th:only-of-type {\n",
       "        vertical-align: middle;\n",
       "    }\n",
       "\n",
       "    .dataframe tbody tr th {\n",
       "        vertical-align: top;\n",
       "    }\n",
       "\n",
       "    .dataframe thead th {\n",
       "        text-align: right;\n",
       "    }\n",
       "</style>\n",
       "<table border=\"1\" class=\"dataframe\">\n",
       "  <thead>\n",
       "    <tr style=\"text-align: right;\">\n",
       "      <th></th>\n",
       "      <th>Id</th>\n",
       "      <th>year</th>\n",
       "      <th>price</th>\n",
       "      <th>distance_travelled(kms)</th>\n",
       "      <th>brand_rank</th>\n",
       "      <th>car_age</th>\n",
       "    </tr>\n",
       "  </thead>\n",
       "  <tbody>\n",
       "    <tr>\n",
       "      <th>count</th>\n",
       "      <td>1725.000000</td>\n",
       "      <td>1725.000000</td>\n",
       "      <td>1.725000e+03</td>\n",
       "      <td>1725.000000</td>\n",
       "      <td>1725.000000</td>\n",
       "      <td>1725.000000</td>\n",
       "    </tr>\n",
       "    <tr>\n",
       "      <th>mean</th>\n",
       "      <td>862.000000</td>\n",
       "      <td>2015.390725</td>\n",
       "      <td>1.494837e+06</td>\n",
       "      <td>53848.256232</td>\n",
       "      <td>15.731014</td>\n",
       "      <td>5.609275</td>\n",
       "    </tr>\n",
       "    <tr>\n",
       "      <th>std</th>\n",
       "      <td>498.108924</td>\n",
       "      <td>3.207504</td>\n",
       "      <td>1.671658e+06</td>\n",
       "      <td>44725.541963</td>\n",
       "      <td>12.951122</td>\n",
       "      <td>3.207504</td>\n",
       "    </tr>\n",
       "    <tr>\n",
       "      <th>min</th>\n",
       "      <td>0.000000</td>\n",
       "      <td>1990.000000</td>\n",
       "      <td>6.250000e+04</td>\n",
       "      <td>350.000000</td>\n",
       "      <td>1.000000</td>\n",
       "      <td>0.000000</td>\n",
       "    </tr>\n",
       "    <tr>\n",
       "      <th>25%</th>\n",
       "      <td>431.000000</td>\n",
       "      <td>2013.000000</td>\n",
       "      <td>5.450000e+05</td>\n",
       "      <td>29000.000000</td>\n",
       "      <td>5.000000</td>\n",
       "      <td>3.000000</td>\n",
       "    </tr>\n",
       "    <tr>\n",
       "      <th>50%</th>\n",
       "      <td>862.000000</td>\n",
       "      <td>2016.000000</td>\n",
       "      <td>8.750000e+05</td>\n",
       "      <td>49000.000000</td>\n",
       "      <td>14.000000</td>\n",
       "      <td>5.000000</td>\n",
       "    </tr>\n",
       "    <tr>\n",
       "      <th>75%</th>\n",
       "      <td>1293.000000</td>\n",
       "      <td>2018.000000</td>\n",
       "      <td>1.825000e+06</td>\n",
       "      <td>70500.000000</td>\n",
       "      <td>24.000000</td>\n",
       "      <td>8.000000</td>\n",
       "    </tr>\n",
       "    <tr>\n",
       "      <th>max</th>\n",
       "      <td>1724.000000</td>\n",
       "      <td>2021.000000</td>\n",
       "      <td>1.470000e+07</td>\n",
       "      <td>790000.000000</td>\n",
       "      <td>81.000000</td>\n",
       "      <td>31.000000</td>\n",
       "    </tr>\n",
       "  </tbody>\n",
       "</table>\n",
       "</div>"
      ],
      "text/plain": [
       "                Id         year         price  distance_travelled(kms)  \\\n",
       "count  1725.000000  1725.000000  1.725000e+03              1725.000000   \n",
       "mean    862.000000  2015.390725  1.494837e+06             53848.256232   \n",
       "std     498.108924     3.207504  1.671658e+06             44725.541963   \n",
       "min       0.000000  1990.000000  6.250000e+04               350.000000   \n",
       "25%     431.000000  2013.000000  5.450000e+05             29000.000000   \n",
       "50%     862.000000  2016.000000  8.750000e+05             49000.000000   \n",
       "75%    1293.000000  2018.000000  1.825000e+06             70500.000000   \n",
       "max    1724.000000  2021.000000  1.470000e+07            790000.000000   \n",
       "\n",
       "        brand_rank      car_age  \n",
       "count  1725.000000  1725.000000  \n",
       "mean     15.731014     5.609275  \n",
       "std      12.951122     3.207504  \n",
       "min       1.000000     0.000000  \n",
       "25%       5.000000     3.000000  \n",
       "50%      14.000000     5.000000  \n",
       "75%      24.000000     8.000000  \n",
       "max      81.000000    31.000000  "
      ]
     },
     "execution_count": 37,
     "metadata": {},
     "output_type": "execute_result"
    }
   ],
   "source": [
    "cars_df.describe()"
   ]
  },
  {
   "cell_type": "markdown",
   "id": "c396defc",
   "metadata": {},
   "source": [
    "<h2> Basics of Grouping </h2>\n",
    "\n",
    "* The \"groupby\" method groups data by different categories. The data is grouped based on one or several variables, and analysis is performed on the individual groups."
   ]
  },
  {
   "cell_type": "code",
   "execution_count": 40,
   "id": "aac91d58",
   "metadata": {},
   "outputs": [
    {
     "data": {
      "text/plain": [
       "array(['Petrol', 'Diesel', 'Petrol + 1', 'CNG + 1', 'Hybrid'],\n",
       "      dtype=object)"
      ]
     },
     "execution_count": 40,
     "metadata": {},
     "output_type": "execute_result"
    }
   ],
   "source": [
    "cars_df['fuel_type'].unique()"
   ]
  },
  {
   "cell_type": "code",
   "execution_count": 49,
   "id": "30d7ad6a",
   "metadata": {},
   "outputs": [],
   "source": [
    "df_group_one = cars_df[['fuel_type', 'brand', 'city', 'price']]"
   ]
  },
  {
   "cell_type": "code",
   "execution_count": 50,
   "id": "7fa95a2e",
   "metadata": {},
   "outputs": [
    {
     "data": {
      "text/html": [
       "<div>\n",
       "<style scoped>\n",
       "    .dataframe tbody tr th:only-of-type {\n",
       "        vertical-align: middle;\n",
       "    }\n",
       "\n",
       "    .dataframe tbody tr th {\n",
       "        vertical-align: top;\n",
       "    }\n",
       "\n",
       "    .dataframe thead th {\n",
       "        text-align: right;\n",
       "    }\n",
       "</style>\n",
       "<table border=\"1\" class=\"dataframe\">\n",
       "  <thead>\n",
       "    <tr style=\"text-align: right;\">\n",
       "      <th></th>\n",
       "      <th>fuel_type</th>\n",
       "      <th>brand</th>\n",
       "      <th>city</th>\n",
       "      <th>price</th>\n",
       "    </tr>\n",
       "  </thead>\n",
       "  <tbody>\n",
       "    <tr>\n",
       "      <th>0</th>\n",
       "      <td>Petrol</td>\n",
       "      <td>Honda</td>\n",
       "      <td>Mumbai</td>\n",
       "      <td>425000.0</td>\n",
       "    </tr>\n",
       "    <tr>\n",
       "      <th>1</th>\n",
       "      <td>Diesel</td>\n",
       "      <td>Nissan</td>\n",
       "      <td>Mumbai</td>\n",
       "      <td>325000.0</td>\n",
       "    </tr>\n",
       "    <tr>\n",
       "      <th>2</th>\n",
       "      <td>Diesel</td>\n",
       "      <td>Toyota</td>\n",
       "      <td>Thane</td>\n",
       "      <td>2650000.0</td>\n",
       "    </tr>\n",
       "    <tr>\n",
       "      <th>3</th>\n",
       "      <td>Diesel</td>\n",
       "      <td>Mercedes-Benz</td>\n",
       "      <td>Mumbai</td>\n",
       "      <td>4195000.0</td>\n",
       "    </tr>\n",
       "    <tr>\n",
       "      <th>4</th>\n",
       "      <td>Diesel</td>\n",
       "      <td>Hyundai</td>\n",
       "      <td>Mumbai</td>\n",
       "      <td>475000.0</td>\n",
       "    </tr>\n",
       "    <tr>\n",
       "      <th>5</th>\n",
       "      <td>Petrol</td>\n",
       "      <td>Hyundai</td>\n",
       "      <td>Mumbai</td>\n",
       "      <td>335000.0</td>\n",
       "    </tr>\n",
       "    <tr>\n",
       "      <th>6</th>\n",
       "      <td>Petrol</td>\n",
       "      <td>Toyota</td>\n",
       "      <td>Mumbai</td>\n",
       "      <td>750000.0</td>\n",
       "    </tr>\n",
       "    <tr>\n",
       "      <th>7</th>\n",
       "      <td>Diesel</td>\n",
       "      <td>Mercedes-Benz</td>\n",
       "      <td>Mumbai</td>\n",
       "      <td>5500000.0</td>\n",
       "    </tr>\n",
       "    <tr>\n",
       "      <th>8</th>\n",
       "      <td>Petrol</td>\n",
       "      <td>Hyundai</td>\n",
       "      <td>Mumbai</td>\n",
       "      <td>565000.0</td>\n",
       "    </tr>\n",
       "    <tr>\n",
       "      <th>9</th>\n",
       "      <td>Petrol</td>\n",
       "      <td>Maruti Suzuki</td>\n",
       "      <td>Mumbai</td>\n",
       "      <td>510000.0</td>\n",
       "    </tr>\n",
       "    <tr>\n",
       "      <th>239</th>\n",
       "      <td>Petrol + 1</td>\n",
       "      <td>Toyota</td>\n",
       "      <td>Mumbai</td>\n",
       "      <td>325000.0</td>\n",
       "    </tr>\n",
       "    <tr>\n",
       "      <th>328</th>\n",
       "      <td>Petrol + 1</td>\n",
       "      <td>Maruti Suzuki</td>\n",
       "      <td>Delhi</td>\n",
       "      <td>260000.0</td>\n",
       "    </tr>\n",
       "    <tr>\n",
       "      <th>448</th>\n",
       "      <td>CNG + 1</td>\n",
       "      <td>Maruti Suzuki</td>\n",
       "      <td>Delhi</td>\n",
       "      <td>535000.0</td>\n",
       "    </tr>\n",
       "    <tr>\n",
       "      <th>465</th>\n",
       "      <td>Petrol + 1</td>\n",
       "      <td>Hyundai</td>\n",
       "      <td>Delhi</td>\n",
       "      <td>225000.0</td>\n",
       "    </tr>\n",
       "    <tr>\n",
       "      <th>638</th>\n",
       "      <td>Hybrid</td>\n",
       "      <td>MG</td>\n",
       "      <td>Bangalore</td>\n",
       "      <td>2100000.0</td>\n",
       "    </tr>\n",
       "    <tr>\n",
       "      <th>928</th>\n",
       "      <td>CNG + 1</td>\n",
       "      <td>Maruti Suzuki</td>\n",
       "      <td>Hyderabad</td>\n",
       "      <td>320000.0</td>\n",
       "    </tr>\n",
       "    <tr>\n",
       "      <th>938</th>\n",
       "      <td>CNG + 1</td>\n",
       "      <td>Maruti Suzuki</td>\n",
       "      <td>Hyderabad</td>\n",
       "      <td>320000.0</td>\n",
       "    </tr>\n",
       "    <tr>\n",
       "      <th>1486</th>\n",
       "      <td>CNG + 1</td>\n",
       "      <td>Maruti Suzuki</td>\n",
       "      <td>Pune</td>\n",
       "      <td>395000.0</td>\n",
       "    </tr>\n",
       "    <tr>\n",
       "      <th>1583</th>\n",
       "      <td>CNG + 1</td>\n",
       "      <td>Maruti Suzuki</td>\n",
       "      <td>Pune</td>\n",
       "      <td>825000.0</td>\n",
       "    </tr>\n",
       "    <tr>\n",
       "      <th>1584</th>\n",
       "      <td>Petrol + 1</td>\n",
       "      <td>Renault</td>\n",
       "      <td>Pune</td>\n",
       "      <td>470000.0</td>\n",
       "    </tr>\n",
       "    <tr>\n",
       "      <th>1696</th>\n",
       "      <td>Petrol + 1</td>\n",
       "      <td>Maruti Suzuki</td>\n",
       "      <td>Pune</td>\n",
       "      <td>950000.0</td>\n",
       "    </tr>\n",
       "  </tbody>\n",
       "</table>\n",
       "</div>"
      ],
      "text/plain": [
       "       fuel_type          brand       city      price\n",
       "0         Petrol          Honda     Mumbai   425000.0\n",
       "1         Diesel         Nissan     Mumbai   325000.0\n",
       "2         Diesel         Toyota      Thane  2650000.0\n",
       "3         Diesel  Mercedes-Benz     Mumbai  4195000.0\n",
       "4         Diesel        Hyundai     Mumbai   475000.0\n",
       "5         Petrol        Hyundai     Mumbai   335000.0\n",
       "6         Petrol         Toyota     Mumbai   750000.0\n",
       "7         Diesel  Mercedes-Benz     Mumbai  5500000.0\n",
       "8         Petrol        Hyundai     Mumbai   565000.0\n",
       "9         Petrol  Maruti Suzuki     Mumbai   510000.0\n",
       "239   Petrol + 1         Toyota     Mumbai   325000.0\n",
       "328   Petrol + 1  Maruti Suzuki      Delhi   260000.0\n",
       "448      CNG + 1  Maruti Suzuki      Delhi   535000.0\n",
       "465   Petrol + 1        Hyundai      Delhi   225000.0\n",
       "638       Hybrid             MG  Bangalore  2100000.0\n",
       "928      CNG + 1  Maruti Suzuki  Hyderabad   320000.0\n",
       "938      CNG + 1  Maruti Suzuki  Hyderabad   320000.0\n",
       "1486     CNG + 1  Maruti Suzuki       Pune   395000.0\n",
       "1583     CNG + 1  Maruti Suzuki       Pune   825000.0\n",
       "1584  Petrol + 1        Renault       Pune   470000.0\n",
       "1696  Petrol + 1  Maruti Suzuki       Pune   950000.0"
      ]
     },
     "execution_count": 50,
     "metadata": {},
     "output_type": "execute_result"
    }
   ],
   "source": [
    "gp = df_group_one.groupby(['fuel_type'],as_index=False)\n",
    "gp.head()"
   ]
  },
  {
   "cell_type": "code",
   "execution_count": 51,
   "id": "001551fd",
   "metadata": {},
   "outputs": [
    {
     "data": {
      "text/html": [
       "<div>\n",
       "<style scoped>\n",
       "    .dataframe tbody tr th:only-of-type {\n",
       "        vertical-align: middle;\n",
       "    }\n",
       "\n",
       "    .dataframe tbody tr th {\n",
       "        vertical-align: top;\n",
       "    }\n",
       "\n",
       "    .dataframe thead th {\n",
       "        text-align: right;\n",
       "    }\n",
       "</style>\n",
       "<table border=\"1\" class=\"dataframe\">\n",
       "  <thead>\n",
       "    <tr style=\"text-align: right;\">\n",
       "      <th></th>\n",
       "      <th>fuel_type</th>\n",
       "      <th>price</th>\n",
       "    </tr>\n",
       "  </thead>\n",
       "  <tbody>\n",
       "    <tr>\n",
       "      <th>0</th>\n",
       "      <td>CNG + 1</td>\n",
       "      <td>4.218750e+05</td>\n",
       "    </tr>\n",
       "    <tr>\n",
       "      <th>1</th>\n",
       "      <td>Diesel</td>\n",
       "      <td>1.914885e+06</td>\n",
       "    </tr>\n",
       "    <tr>\n",
       "      <th>2</th>\n",
       "      <td>Hybrid</td>\n",
       "      <td>2.100000e+06</td>\n",
       "    </tr>\n",
       "    <tr>\n",
       "      <th>3</th>\n",
       "      <td>Petrol</td>\n",
       "      <td>1.020832e+06</td>\n",
       "    </tr>\n",
       "    <tr>\n",
       "      <th>4</th>\n",
       "      <td>Petrol + 1</td>\n",
       "      <td>5.300000e+05</td>\n",
       "    </tr>\n",
       "  </tbody>\n",
       "</table>\n",
       "</div>"
      ],
      "text/plain": [
       "    fuel_type         price\n",
       "0     CNG + 1  4.218750e+05\n",
       "1      Diesel  1.914885e+06\n",
       "2      Hybrid  2.100000e+06\n",
       "3      Petrol  1.020832e+06\n",
       "4  Petrol + 1  5.300000e+05"
      ]
     },
     "execution_count": 51,
     "metadata": {},
     "output_type": "execute_result"
    }
   ],
   "source": [
    "gp.mean()"
   ]
  },
  {
   "cell_type": "markdown",
   "id": "d9db1b14",
   "metadata": {},
   "source": [
    "* You can also group by multiple variables. "
   ]
  },
  {
   "cell_type": "code",
   "execution_count": 52,
   "id": "59489bbe",
   "metadata": {},
   "outputs": [
    {
     "data": {
      "text/html": [
       "<div>\n",
       "<style scoped>\n",
       "    .dataframe tbody tr th:only-of-type {\n",
       "        vertical-align: middle;\n",
       "    }\n",
       "\n",
       "    .dataframe tbody tr th {\n",
       "        vertical-align: top;\n",
       "    }\n",
       "\n",
       "    .dataframe thead th {\n",
       "        text-align: right;\n",
       "    }\n",
       "</style>\n",
       "<table border=\"1\" class=\"dataframe\">\n",
       "  <thead>\n",
       "    <tr style=\"text-align: right;\">\n",
       "      <th></th>\n",
       "      <th>fuel_type</th>\n",
       "      <th>brand</th>\n",
       "      <th>price</th>\n",
       "    </tr>\n",
       "  </thead>\n",
       "  <tbody>\n",
       "    <tr>\n",
       "      <th>0</th>\n",
       "      <td>CNG + 1</td>\n",
       "      <td>Maruti Suzuki</td>\n",
       "      <td>4.218750e+05</td>\n",
       "    </tr>\n",
       "    <tr>\n",
       "      <th>1</th>\n",
       "      <td>Diesel</td>\n",
       "      <td>Audi</td>\n",
       "      <td>2.297151e+06</td>\n",
       "    </tr>\n",
       "    <tr>\n",
       "      <th>2</th>\n",
       "      <td>Diesel</td>\n",
       "      <td>BMW</td>\n",
       "      <td>3.161100e+06</td>\n",
       "    </tr>\n",
       "    <tr>\n",
       "      <th>3</th>\n",
       "      <td>Diesel</td>\n",
       "      <td>Chevrolet</td>\n",
       "      <td>3.725000e+05</td>\n",
       "    </tr>\n",
       "    <tr>\n",
       "      <th>4</th>\n",
       "      <td>Diesel</td>\n",
       "      <td>Fiat</td>\n",
       "      <td>7.400000e+05</td>\n",
       "    </tr>\n",
       "    <tr>\n",
       "      <th>...</th>\n",
       "      <td>...</td>\n",
       "      <td>...</td>\n",
       "      <td>...</td>\n",
       "    </tr>\n",
       "    <tr>\n",
       "      <th>56</th>\n",
       "      <td>Petrol</td>\n",
       "      <td>Volvo</td>\n",
       "      <td>3.950000e+06</td>\n",
       "    </tr>\n",
       "    <tr>\n",
       "      <th>57</th>\n",
       "      <td>Petrol + 1</td>\n",
       "      <td>Hyundai</td>\n",
       "      <td>2.250000e+05</td>\n",
       "    </tr>\n",
       "    <tr>\n",
       "      <th>58</th>\n",
       "      <td>Petrol + 1</td>\n",
       "      <td>Maruti Suzuki</td>\n",
       "      <td>7.200000e+05</td>\n",
       "    </tr>\n",
       "    <tr>\n",
       "      <th>59</th>\n",
       "      <td>Petrol + 1</td>\n",
       "      <td>Renault</td>\n",
       "      <td>4.700000e+05</td>\n",
       "    </tr>\n",
       "    <tr>\n",
       "      <th>60</th>\n",
       "      <td>Petrol + 1</td>\n",
       "      <td>Toyota</td>\n",
       "      <td>3.250000e+05</td>\n",
       "    </tr>\n",
       "  </tbody>\n",
       "</table>\n",
       "<p>61 rows × 3 columns</p>\n",
       "</div>"
      ],
      "text/plain": [
       "     fuel_type          brand         price\n",
       "0      CNG + 1  Maruti Suzuki  4.218750e+05\n",
       "1       Diesel           Audi  2.297151e+06\n",
       "2       Diesel            BMW  3.161100e+06\n",
       "3       Diesel      Chevrolet  3.725000e+05\n",
       "4       Diesel           Fiat  7.400000e+05\n",
       "..         ...            ...           ...\n",
       "56      Petrol          Volvo  3.950000e+06\n",
       "57  Petrol + 1        Hyundai  2.250000e+05\n",
       "58  Petrol + 1  Maruti Suzuki  7.200000e+05\n",
       "59  Petrol + 1        Renault  4.700000e+05\n",
       "60  Petrol + 1         Toyota  3.250000e+05\n",
       "\n",
       "[61 rows x 3 columns]"
      ]
     },
     "execution_count": 52,
     "metadata": {},
     "output_type": "execute_result"
    }
   ],
   "source": [
    "# grouping results\n",
    "df_gptest = cars_df[['fuel_type', 'brand', 'city', 'price']]\n",
    "grouped_test1 = df_gptest.groupby(['fuel_type','brand'],as_index=False).mean()\n",
    "grouped_test1"
   ]
  },
  {
   "cell_type": "code",
   "execution_count": 53,
   "id": "ea1c659f",
   "metadata": {},
   "outputs": [
    {
     "data": {
      "text/html": [
       "<div>\n",
       "<style scoped>\n",
       "    .dataframe tbody tr th:only-of-type {\n",
       "        vertical-align: middle;\n",
       "    }\n",
       "\n",
       "    .dataframe tbody tr th {\n",
       "        vertical-align: top;\n",
       "    }\n",
       "\n",
       "    .dataframe thead tr th {\n",
       "        text-align: left;\n",
       "    }\n",
       "\n",
       "    .dataframe thead tr:last-of-type th {\n",
       "        text-align: right;\n",
       "    }\n",
       "</style>\n",
       "<table border=\"1\" class=\"dataframe\">\n",
       "  <thead>\n",
       "    <tr>\n",
       "      <th></th>\n",
       "      <th colspan=\"21\" halign=\"left\">price</th>\n",
       "    </tr>\n",
       "    <tr>\n",
       "      <th>brand</th>\n",
       "      <th>Audi</th>\n",
       "      <th>BMW</th>\n",
       "      <th>Bentley</th>\n",
       "      <th>Chevrolet</th>\n",
       "      <th>Datsun</th>\n",
       "      <th>Fiat</th>\n",
       "      <th>Ford</th>\n",
       "      <th>Honda</th>\n",
       "      <th>Hyundai</th>\n",
       "      <th>Isuzu</th>\n",
       "      <th>...</th>\n",
       "      <th>Mercedes-Benz</th>\n",
       "      <th>Mitsubishi</th>\n",
       "      <th>Nissan</th>\n",
       "      <th>Porsche</th>\n",
       "      <th>Renault</th>\n",
       "      <th>Skoda</th>\n",
       "      <th>Tata</th>\n",
       "      <th>Toyota</th>\n",
       "      <th>Volkswagen</th>\n",
       "      <th>Volvo</th>\n",
       "    </tr>\n",
       "    <tr>\n",
       "      <th>fuel_type</th>\n",
       "      <th></th>\n",
       "      <th></th>\n",
       "      <th></th>\n",
       "      <th></th>\n",
       "      <th></th>\n",
       "      <th></th>\n",
       "      <th></th>\n",
       "      <th></th>\n",
       "      <th></th>\n",
       "      <th></th>\n",
       "      <th></th>\n",
       "      <th></th>\n",
       "      <th></th>\n",
       "      <th></th>\n",
       "      <th></th>\n",
       "      <th></th>\n",
       "      <th></th>\n",
       "      <th></th>\n",
       "      <th></th>\n",
       "      <th></th>\n",
       "      <th></th>\n",
       "    </tr>\n",
       "  </thead>\n",
       "  <tbody>\n",
       "    <tr>\n",
       "      <th>CNG + 1</th>\n",
       "      <td>NaN</td>\n",
       "      <td>NaN</td>\n",
       "      <td>NaN</td>\n",
       "      <td>NaN</td>\n",
       "      <td>NaN</td>\n",
       "      <td>NaN</td>\n",
       "      <td>NaN</td>\n",
       "      <td>NaN</td>\n",
       "      <td>NaN</td>\n",
       "      <td>NaN</td>\n",
       "      <td>...</td>\n",
       "      <td>NaN</td>\n",
       "      <td>NaN</td>\n",
       "      <td>NaN</td>\n",
       "      <td>NaN</td>\n",
       "      <td>NaN</td>\n",
       "      <td>NaN</td>\n",
       "      <td>NaN</td>\n",
       "      <td>NaN</td>\n",
       "      <td>NaN</td>\n",
       "      <td>NaN</td>\n",
       "    </tr>\n",
       "    <tr>\n",
       "      <th>Diesel</th>\n",
       "      <td>2.297151e+06</td>\n",
       "      <td>3.161100e+06</td>\n",
       "      <td>NaN</td>\n",
       "      <td>372500.0</td>\n",
       "      <td>NaN</td>\n",
       "      <td>740000.0</td>\n",
       "      <td>1.539722e+06</td>\n",
       "      <td>752424.242424</td>\n",
       "      <td>924566.265060</td>\n",
       "      <td>3000000.0</td>\n",
       "      <td>...</td>\n",
       "      <td>3.321465e+06</td>\n",
       "      <td>1412500.0</td>\n",
       "      <td>325000.000000</td>\n",
       "      <td>5.850000e+06</td>\n",
       "      <td>728923.076923</td>\n",
       "      <td>991000.000000</td>\n",
       "      <td>998363.636364</td>\n",
       "      <td>1.769979e+06</td>\n",
       "      <td>850740.740741</td>\n",
       "      <td>3760000.0</td>\n",
       "    </tr>\n",
       "    <tr>\n",
       "      <th>Hybrid</th>\n",
       "      <td>NaN</td>\n",
       "      <td>NaN</td>\n",
       "      <td>NaN</td>\n",
       "      <td>NaN</td>\n",
       "      <td>NaN</td>\n",
       "      <td>NaN</td>\n",
       "      <td>NaN</td>\n",
       "      <td>NaN</td>\n",
       "      <td>NaN</td>\n",
       "      <td>NaN</td>\n",
       "      <td>...</td>\n",
       "      <td>NaN</td>\n",
       "      <td>NaN</td>\n",
       "      <td>NaN</td>\n",
       "      <td>NaN</td>\n",
       "      <td>NaN</td>\n",
       "      <td>NaN</td>\n",
       "      <td>NaN</td>\n",
       "      <td>NaN</td>\n",
       "      <td>NaN</td>\n",
       "      <td>NaN</td>\n",
       "    </tr>\n",
       "    <tr>\n",
       "      <th>Petrol</th>\n",
       "      <td>1.314800e+06</td>\n",
       "      <td>3.588762e+06</td>\n",
       "      <td>8200000.0</td>\n",
       "      <td>201400.0</td>\n",
       "      <td>310000.0</td>\n",
       "      <td>2000000.0</td>\n",
       "      <td>2.198542e+06</td>\n",
       "      <td>632616.666667</td>\n",
       "      <td>696399.061033</td>\n",
       "      <td>NaN</td>\n",
       "      <td>...</td>\n",
       "      <td>3.148867e+06</td>\n",
       "      <td>572500.0</td>\n",
       "      <td>395833.333333</td>\n",
       "      <td>4.566667e+06</td>\n",
       "      <td>526875.000000</td>\n",
       "      <td>970588.235294</td>\n",
       "      <td>610454.545455</td>\n",
       "      <td>9.714545e+05</td>\n",
       "      <td>626302.325581</td>\n",
       "      <td>3950000.0</td>\n",
       "    </tr>\n",
       "    <tr>\n",
       "      <th>Petrol + 1</th>\n",
       "      <td>NaN</td>\n",
       "      <td>NaN</td>\n",
       "      <td>NaN</td>\n",
       "      <td>NaN</td>\n",
       "      <td>NaN</td>\n",
       "      <td>NaN</td>\n",
       "      <td>NaN</td>\n",
       "      <td>NaN</td>\n",
       "      <td>225000.000000</td>\n",
       "      <td>NaN</td>\n",
       "      <td>...</td>\n",
       "      <td>NaN</td>\n",
       "      <td>NaN</td>\n",
       "      <td>NaN</td>\n",
       "      <td>NaN</td>\n",
       "      <td>470000.000000</td>\n",
       "      <td>NaN</td>\n",
       "      <td>NaN</td>\n",
       "      <td>3.250000e+05</td>\n",
       "      <td>NaN</td>\n",
       "      <td>NaN</td>\n",
       "    </tr>\n",
       "  </tbody>\n",
       "</table>\n",
       "<p>5 rows × 31 columns</p>\n",
       "</div>"
      ],
      "text/plain": [
       "                   price                                               \\\n",
       "brand               Audi           BMW    Bentley Chevrolet    Datsun   \n",
       "fuel_type                                                               \n",
       "CNG + 1              NaN           NaN        NaN       NaN       NaN   \n",
       "Diesel      2.297151e+06  3.161100e+06        NaN  372500.0       NaN   \n",
       "Hybrid               NaN           NaN        NaN       NaN       NaN   \n",
       "Petrol      1.314800e+06  3.588762e+06  8200000.0  201400.0  310000.0   \n",
       "Petrol + 1           NaN           NaN        NaN       NaN       NaN   \n",
       "\n",
       "                                                                              \\\n",
       "brand            Fiat          Ford          Honda        Hyundai      Isuzu   \n",
       "fuel_type                                                                      \n",
       "CNG + 1           NaN           NaN            NaN            NaN        NaN   \n",
       "Diesel       740000.0  1.539722e+06  752424.242424  924566.265060  3000000.0   \n",
       "Hybrid            NaN           NaN            NaN            NaN        NaN   \n",
       "Petrol      2000000.0  2.198542e+06  632616.666667  696399.061033        NaN   \n",
       "Petrol + 1        NaN           NaN            NaN  225000.000000        NaN   \n",
       "\n",
       "            ...                                                        \\\n",
       "brand       ... Mercedes-Benz Mitsubishi         Nissan       Porsche   \n",
       "fuel_type   ...                                                         \n",
       "CNG + 1     ...           NaN        NaN            NaN           NaN   \n",
       "Diesel      ...  3.321465e+06  1412500.0  325000.000000  5.850000e+06   \n",
       "Hybrid      ...           NaN        NaN            NaN           NaN   \n",
       "Petrol      ...  3.148867e+06   572500.0  395833.333333  4.566667e+06   \n",
       "Petrol + 1  ...           NaN        NaN            NaN           NaN   \n",
       "\n",
       "                                                                       \\\n",
       "brand             Renault          Skoda           Tata        Toyota   \n",
       "fuel_type                                                               \n",
       "CNG + 1               NaN            NaN            NaN           NaN   \n",
       "Diesel      728923.076923  991000.000000  998363.636364  1.769979e+06   \n",
       "Hybrid                NaN            NaN            NaN           NaN   \n",
       "Petrol      526875.000000  970588.235294  610454.545455  9.714545e+05   \n",
       "Petrol + 1  470000.000000            NaN            NaN  3.250000e+05   \n",
       "\n",
       "                                      \n",
       "brand          Volkswagen      Volvo  \n",
       "fuel_type                             \n",
       "CNG + 1               NaN        NaN  \n",
       "Diesel      850740.740741  3760000.0  \n",
       "Hybrid                NaN        NaN  \n",
       "Petrol      626302.325581  3950000.0  \n",
       "Petrol + 1            NaN        NaN  \n",
       "\n",
       "[5 rows x 31 columns]"
      ]
     },
     "execution_count": 53,
     "metadata": {},
     "output_type": "execute_result"
    }
   ],
   "source": [
    "grouped_pivot = grouped_test1.pivot(index='fuel_type',columns='brand')\n",
    "grouped_pivot"
   ]
  },
  {
   "cell_type": "markdown",
   "id": "ecf8a204",
   "metadata": {},
   "source": [
    "<h2> Correlation and Causation </h2>"
   ]
  },
  {
   "cell_type": "code",
   "execution_count": 55,
   "id": "aa3cd05c",
   "metadata": {},
   "outputs": [
    {
     "data": {
      "text/html": [
       "<div>\n",
       "<style scoped>\n",
       "    .dataframe tbody tr th:only-of-type {\n",
       "        vertical-align: middle;\n",
       "    }\n",
       "\n",
       "    .dataframe tbody tr th {\n",
       "        vertical-align: top;\n",
       "    }\n",
       "\n",
       "    .dataframe thead th {\n",
       "        text-align: right;\n",
       "    }\n",
       "</style>\n",
       "<table border=\"1\" class=\"dataframe\">\n",
       "  <thead>\n",
       "    <tr style=\"text-align: right;\">\n",
       "      <th></th>\n",
       "      <th>Id</th>\n",
       "      <th>year</th>\n",
       "      <th>price</th>\n",
       "      <th>distance_travelled(kms)</th>\n",
       "      <th>brand_rank</th>\n",
       "      <th>car_age</th>\n",
       "    </tr>\n",
       "  </thead>\n",
       "  <tbody>\n",
       "    <tr>\n",
       "      <th>Id</th>\n",
       "      <td>1.000000</td>\n",
       "      <td>-0.054391</td>\n",
       "      <td>-0.105696</td>\n",
       "      <td>0.100282</td>\n",
       "      <td>0.022191</td>\n",
       "      <td>0.054391</td>\n",
       "    </tr>\n",
       "    <tr>\n",
       "      <th>year</th>\n",
       "      <td>-0.054391</td>\n",
       "      <td>1.000000</td>\n",
       "      <td>0.288483</td>\n",
       "      <td>-0.386107</td>\n",
       "      <td>0.134275</td>\n",
       "      <td>-1.000000</td>\n",
       "    </tr>\n",
       "    <tr>\n",
       "      <th>price</th>\n",
       "      <td>-0.105696</td>\n",
       "      <td>0.288483</td>\n",
       "      <td>1.000000</td>\n",
       "      <td>-0.137351</td>\n",
       "      <td>-0.164591</td>\n",
       "      <td>-0.288483</td>\n",
       "    </tr>\n",
       "    <tr>\n",
       "      <th>distance_travelled(kms)</th>\n",
       "      <td>0.100282</td>\n",
       "      <td>-0.386107</td>\n",
       "      <td>-0.137351</td>\n",
       "      <td>1.000000</td>\n",
       "      <td>-0.111406</td>\n",
       "      <td>0.386107</td>\n",
       "    </tr>\n",
       "    <tr>\n",
       "      <th>brand_rank</th>\n",
       "      <td>0.022191</td>\n",
       "      <td>0.134275</td>\n",
       "      <td>-0.164591</td>\n",
       "      <td>-0.111406</td>\n",
       "      <td>1.000000</td>\n",
       "      <td>-0.134275</td>\n",
       "    </tr>\n",
       "    <tr>\n",
       "      <th>car_age</th>\n",
       "      <td>0.054391</td>\n",
       "      <td>-1.000000</td>\n",
       "      <td>-0.288483</td>\n",
       "      <td>0.386107</td>\n",
       "      <td>-0.134275</td>\n",
       "      <td>1.000000</td>\n",
       "    </tr>\n",
       "  </tbody>\n",
       "</table>\n",
       "</div>"
      ],
      "text/plain": [
       "                               Id      year     price  \\\n",
       "Id                       1.000000 -0.054391 -0.105696   \n",
       "year                    -0.054391  1.000000  0.288483   \n",
       "price                   -0.105696  0.288483  1.000000   \n",
       "distance_travelled(kms)  0.100282 -0.386107 -0.137351   \n",
       "brand_rank               0.022191  0.134275 -0.164591   \n",
       "car_age                  0.054391 -1.000000 -0.288483   \n",
       "\n",
       "                         distance_travelled(kms)  brand_rank   car_age  \n",
       "Id                                      0.100282    0.022191  0.054391  \n",
       "year                                   -0.386107    0.134275 -1.000000  \n",
       "price                                  -0.137351   -0.164591 -0.288483  \n",
       "distance_travelled(kms)                 1.000000   -0.111406  0.386107  \n",
       "brand_rank                             -0.111406    1.000000 -0.134275  \n",
       "car_age                                 0.386107   -0.134275  1.000000  "
      ]
     },
     "execution_count": 55,
     "metadata": {},
     "output_type": "execute_result"
    }
   ],
   "source": [
    "cars_df.corr()"
   ]
  },
  {
   "cell_type": "markdown",
   "id": "67902394",
   "metadata": {},
   "source": [
    "* Now we would like to know the significant of the correlation estimate."
   ]
  },
  {
   "cell_type": "code",
   "execution_count": 56,
   "id": "e4539059",
   "metadata": {},
   "outputs": [],
   "source": [
    "from scipy import stats"
   ]
  },
  {
   "cell_type": "code",
   "execution_count": 58,
   "id": "54883975",
   "metadata": {},
   "outputs": [
    {
     "name": "stdout",
     "output_type": "stream",
     "text": [
      "The Pearson Correlation Coefficient is 0.28848307091372793  with a P-value of P = 2.047766066480015e-34\n"
     ]
    }
   ],
   "source": [
    "pearson_coef, p_value = stats.pearsonr(cars_df['year'], cars_df['price'])\n",
    "print(\"The Pearson Correlation Coefficient is\", pearson_coef, \" with a P-value of P =\", p_value)  "
   ]
  },
  {
   "cell_type": "code",
   "execution_count": 59,
   "id": "06205ed1",
   "metadata": {},
   "outputs": [
    {
     "name": "stdout",
     "output_type": "stream",
     "text": [
      "The Pearson Correlation Coefficient is -0.1373512313891423  with a P-value of P = 1.0182841034396052e-08\n"
     ]
    }
   ],
   "source": [
    "pearson_coef, p_value = stats.pearsonr(cars_df['distance_travelled(kms)'], cars_df['price'])\n",
    "print(\"The Pearson Correlation Coefficient is\", pearson_coef, \" with a P-value of P =\", p_value)  "
   ]
  },
  {
   "cell_type": "code",
   "execution_count": 60,
   "id": "9564f624",
   "metadata": {},
   "outputs": [
    {
     "name": "stdout",
     "output_type": "stream",
     "text": [
      "The Pearson Correlation Coefficient is -0.16459075697370953  with a P-value of P = 6.071174786508284e-12\n"
     ]
    }
   ],
   "source": [
    "pearson_coef, p_value = stats.pearsonr(cars_df['brand_rank'], cars_df['price'])\n",
    "print(\"The Pearson Correlation Coefficient is\", pearson_coef, \" with a P-value of P =\", p_value)  "
   ]
  },
  {
   "cell_type": "code",
   "execution_count": 61,
   "id": "16738626",
   "metadata": {},
   "outputs": [
    {
     "name": "stdout",
     "output_type": "stream",
     "text": [
      "The Pearson Correlation Coefficient is -0.2884830709137278  with a P-value of P = 2.0477660664797823e-34\n"
     ]
    }
   ],
   "source": [
    "pearson_coef, p_value = stats.pearsonr(cars_df['car_age'], cars_df['price'])\n",
    "print(\"The Pearson Correlation Coefficient is\", pearson_coef, \" with a P-value of P =\", p_value)  "
   ]
  },
  {
   "cell_type": "markdown",
   "id": "3d1f09e6",
   "metadata": {},
   "source": [
    "<h2> ANOVA (Analysis of variance) </h2>\n",
    "\n",
    "* We can perform the one way anova and two way anova as well here to perform the few hypohesis testing.\n",
    "\n",
    "<p><b>F-test score</b>: ANOVA assumes the means of all groups are the same, calculates how much the actual means deviate from the assumption, and reports it as the F-test score. A larger score means there is a larger difference between the means.</p>\n",
    "\n",
    "<p><b>P-value</b>:  P-value tells how statistically significant our calculated score value is.</p>\n",
    "\n",
    "If our price variable is strongly correlated with the variable we are analyzing, we expect ANOVA to return a sizeable F-test score and a small p-value."
   ]
  },
  {
   "cell_type": "code",
   "execution_count": null,
   "id": "9fa318a8",
   "metadata": {},
   "outputs": [],
   "source": []
  }
 ],
 "metadata": {
  "kernelspec": {
   "display_name": "Python 3",
   "language": "python",
   "name": "python3"
  },
  "language_info": {
   "codemirror_mode": {
    "name": "ipython",
    "version": 3
   },
   "file_extension": ".py",
   "mimetype": "text/x-python",
   "name": "python",
   "nbconvert_exporter": "python",
   "pygments_lexer": "ipython3",
   "version": "3.8.8"
  }
 },
 "nbformat": 4,
 "nbformat_minor": 5
}
