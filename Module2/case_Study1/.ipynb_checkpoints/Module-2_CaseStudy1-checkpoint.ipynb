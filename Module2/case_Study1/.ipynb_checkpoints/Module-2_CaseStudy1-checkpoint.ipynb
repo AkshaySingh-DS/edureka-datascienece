{
 "cells": [
  {
   "cell_type": "markdown",
   "id": "171a11b2",
   "metadata": {},
   "source": [
    "### 2 Write a code that accepts a sequence of words as input and prints the words in a sequence after sorting them alphabetically."
   ]
  },
  {
   "cell_type": "code",
   "execution_count": 21,
   "id": "e0432b1b",
   "metadata": {},
   "outputs": [
    {
     "name": "stdout",
     "output_type": "stream",
     "text": [
      "Enter the sequence of words: Mango Kiwi Banana Apple\n",
      "Mango Kiwi Banana Apple\n"
     ]
    }
   ],
   "source": [
    "words = input(\"Enter the sequence of words: \")\n",
    "print(words)"
   ]
  },
  {
   "cell_type": "code",
   "execution_count": 22,
   "id": "123e10a9",
   "metadata": {},
   "outputs": [],
   "source": [
    "words.split().sort()"
   ]
  },
  {
   "cell_type": "raw",
   "id": "09e77c0d",
   "metadata": {},
   "source": []
  },
  {
   "cell_type": "code",
   "execution_count": null,
   "id": "ac637ccd",
   "metadata": {},
   "outputs": [],
   "source": []
  },
  {
   "cell_type": "code",
   "execution_count": null,
   "id": "03885fdc",
   "metadata": {},
   "outputs": [],
   "source": [
    "Mango Kiwi Banana Apple"
   ]
  }
 ],
 "metadata": {
  "kernelspec": {
   "display_name": "Python 3",
   "language": "python",
   "name": "python3"
  },
  "language_info": {
   "codemirror_mode": {
    "name": "ipython",
    "version": 3
   },
   "file_extension": ".py",
   "mimetype": "text/x-python",
   "name": "python",
   "nbconvert_exporter": "python",
   "pygments_lexer": "ipython3",
   "version": "3.8.8"
  }
 },
 "nbformat": 4,
 "nbformat_minor": 5
}
