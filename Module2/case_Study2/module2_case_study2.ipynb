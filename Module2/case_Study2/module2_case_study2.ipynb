{
 "cells": [
  {
   "cell_type": "markdown",
   "id": "2bcd3852",
   "metadata": {},
   "source": [
    "<h1><center>Module 2 - CASE STUDY 2<center></h1>"
   ]
  },
  {
   "cell_type": "markdown",
   "id": "9064a6aa",
   "metadata": {},
   "source": [
    "### 1. What is the output of the following code?\n",
    "\n",
    "nums =set([1,1,2,3,3,3,4,4])\n",
    "\n",
    "print(len(nums))\n"
   ]
  },
  {
   "cell_type": "markdown",
   "id": "70ab5073",
   "metadata": {},
   "source": [
    "answer:\n",
    "\n",
    "* since set will remove the duplicates from list.\n",
    "* ans will be `4` as set would comtain only {1, 2, 3, 4}"
   ]
  },
  {
   "cell_type": "markdown",
   "id": "eef21a09",
   "metadata": {},
   "source": [
    "### 2. What will be the output?\n",
    "d ={\"john\":40, \"peter\":45}\n",
    "\n",
    "print(list(d.keys()))\n",
    "\n",
    "answer:\n",
    "* d.keys() will retun the keys of dictionary\n",
    "* and we are converting those key values into a list \n",
    "* Hence ans will be a list ['john, 'peter']"
   ]
  },
  {
   "cell_type": "markdown",
   "id": "6b4d9832",
   "metadata": {},
   "source": [
    "### 3. A website requires a user to input a username and password to register. Write a program to check the validity of the password given by the user. Following are the criteria for checking password:\n",
    "1. At least 1 letter between [a-z]\n",
    "2. At least 1 number between [0-9]\n",
    "3. At least 1 letter between [A-Z]\n",
    "4. At least 1 character from [$#@]\n",
    "5. Minimum length of transaction password: 6\n",
    "6. Maximum length of transaction password: 12"
   ]
  },
  {
   "cell_type": "code",
   "execution_count": 37,
   "id": "8a1c47cd",
   "metadata": {},
   "outputs": [
    {
     "name": "stdout",
     "output_type": "stream",
     "text": [
      "Enter the password: AAAAA@123\n",
      "False\n",
      "Enter the password once again: AAAAa@12#\n",
      "True\n"
     ]
    }
   ],
   "source": [
    "def isvalid_password(password):\n",
    "    \n",
    "    lowercase = {'a', 'b', 'c', 'd', 'e', 'f' ,'g', 'h', 'i', 'j', \n",
    "             'k', 'l', 'm', 'n', 'o', 'p', 'q', 'r', 's', 't',\n",
    "            'u', 'v', 'w', 'x', 'y', 'z'\n",
    "    }\n",
    "    uppercase = set([ch.upper() for ch in lowercase])\n",
    "\n",
    "    special = {'$', '#', '@'}\n",
    "    \n",
    "    def lowercasecheck():\n",
    "        for ch in password:\n",
    "            if ch in lowercase:\n",
    "                return True\n",
    "        return False\n",
    "        \n",
    "    def uppercasecheck():\n",
    "        for ch in password:\n",
    "            if ch in uppercase:\n",
    "                return True\n",
    "        return False\n",
    "        \n",
    "    def digitscheck():\n",
    "        for ch in password:\n",
    "            if ch.isdigit():\n",
    "                return True\n",
    "        return False        \n",
    "    \n",
    "    def specialcheck():\n",
    "        for ch in special:\n",
    "            if ch in password:\n",
    "                return True\n",
    "        return False \n",
    "        \n",
    "    def lenghtcheck():\n",
    "        return True if len(password) >= 6 and len(password) <= 12 else False\n",
    "        \n",
    "    return lowercasecheck() and uppercasecheck() and digitscheck() and specialcheck() and lenghtcheck()\n",
    "    \n",
    "print(isvalid_password(input(\"Enter the password: \")))\n",
    "print(isvalid_password(input(\"Enter the password once again: \")))"
   ]
  },
  {
   "cell_type": "markdown",
   "id": "90a91c1f",
   "metadata": {},
   "source": [
    "### 4. Write a for loop that prints all elements of a list and their position in the list.a = [4,7,3,2,5,9]"
   ]
  },
  {
   "cell_type": "code",
   "execution_count": 38,
   "id": "5f10dbf8",
   "metadata": {},
   "outputs": [
    {
     "name": "stdout",
     "output_type": "stream",
     "text": [
      "index 0 --> value 4\n",
      "index 1 --> value 7\n",
      "index 2 --> value 3\n",
      "index 3 --> value 2\n",
      "index 4 --> value 5\n",
      "index 5 --> value 9\n"
     ]
    }
   ],
   "source": [
    "lis = [4,7,3,2,5,9]\n",
    "for i, val in enumerate(lis):\n",
    "    print(f\"index {i} --> value {val}\")"
   ]
  },
  {
   "cell_type": "markdown",
   "id": "2840d54a",
   "metadata": {},
   "source": [
    "### 5. Please write  a  program that accepts  a  string  from the console  and  print  the characters that have even indexes."
   ]
  },
  {
   "cell_type": "code",
   "execution_count": 39,
   "id": "0ab6b717",
   "metadata": {},
   "outputs": [
    {
     "name": "stdout",
     "output_type": "stream",
     "text": [
      "Enter the text string: H1e2l3l4o5w6o7r8l9d\n",
      "Helloworld\n"
     ]
    }
   ],
   "source": [
    "var = input(\"Enter the text string: \")\n",
    "print(var[::2])"
   ]
  },
  {
   "cell_type": "markdown",
   "id": "517e9df3",
   "metadata": {},
   "source": [
    "### 6. Please write a program that accepts a string from the console and print it in reverse order."
   ]
  },
  {
   "cell_type": "code",
   "execution_count": 40,
   "id": "dc74b5b6",
   "metadata": {},
   "outputs": [
    {
     "name": "stdout",
     "output_type": "stream",
     "text": [
      "Enter the text string: rise to vote sir\n",
      "ris etov ot esir\n"
     ]
    }
   ],
   "source": [
    "var = input(\"Enter the text string: \")\n",
    "print(var[::-1])"
   ]
  },
  {
   "cell_type": "markdown",
   "id": "68de98e7",
   "metadata": {},
   "source": [
    "### 7. Please write a program that counts and prints the numbers of each character in a string input by the console."
   ]
  },
  {
   "cell_type": "code",
   "execution_count": 43,
   "id": "fcc7c77a",
   "metadata": {},
   "outputs": [
    {
     "name": "stdout",
     "output_type": "stream",
     "text": [
      "Enter the text string: abcdefgabc\n",
      "a,2\n",
      "b,2\n",
      "c,2\n",
      "d,1\n",
      "e,1\n",
      "f,1\n",
      "g,1\n"
     ]
    }
   ],
   "source": [
    "var = input(\"Enter the text string: \")\n",
    "count_map = {}\n",
    "for ch in var:\n",
    "    if count_map.get(ch) == None:\n",
    "        count_map[ch] = 1\n",
    "    else:\n",
    "        count_map[ch] += 1\n",
    "        \n",
    "for key, val in count_map.items():\n",
    "    print(f\"{key},{val}\")"
   ]
  },
  {
   "cell_type": "markdown",
   "id": "e1d9478f",
   "metadata": {},
   "source": [
    "### 8. With   two   given   lists   [1,3,6,78,35,55]   and   [12,24,35,24,88,120,155],   write   a program to make a list whose elements are intersection of the above given lists."
   ]
  },
  {
   "cell_type": "code",
   "execution_count": 45,
   "id": "c1fbe44b",
   "metadata": {},
   "outputs": [
    {
     "name": "stdout",
     "output_type": "stream",
     "text": [
      "{1, 3, 35, 6, 88, 12, 78, 55, 24, 155, 120}\n"
     ]
    }
   ],
   "source": [
    "l1, l2 = [1,3,6,78,35,55], [12,24,35,24,88,120,155]\n",
    "l = set(l1).union(set(l2))\n",
    "print(l)"
   ]
  },
  {
   "cell_type": "markdown",
   "id": "0bed55d1",
   "metadata": {},
   "source": [
    "### 9. By using list comprehension, please write a program to print the list after removing the value 24 in [12,24,35,24,88,120,155]."
   ]
  },
  {
   "cell_type": "code",
   "execution_count": 47,
   "id": "43915f93",
   "metadata": {},
   "outputs": [
    {
     "data": {
      "text/plain": [
       "[12, 35, 88, 120, 155]"
      ]
     },
     "execution_count": 47,
     "metadata": {},
     "output_type": "execute_result"
    }
   ],
   "source": [
    "[i for i in [12,24,35,24,88,120,155] if i != 24]"
   ]
  },
  {
   "cell_type": "markdown",
   "id": "26304c34",
   "metadata": {},
   "source": [
    "### 10. By using list comprehension, please write a program to print the list after removing the 0th,4th,and 5th numbers in [12,24,35,70,88,120,155]."
   ]
  },
  {
   "cell_type": "code",
   "execution_count": 49,
   "id": "fd09db31",
   "metadata": {},
   "outputs": [
    {
     "data": {
      "text/plain": [
       "[24, 35, 70, 155]"
      ]
     },
     "execution_count": 49,
     "metadata": {},
     "output_type": "execute_result"
    }
   ],
   "source": [
    "lis = [12,24,35,70,88,120,155]\n",
    "\n",
    "[val for i, val in enumerate(lis) if i not in {0, 4, 5}] "
   ]
  },
  {
   "cell_type": "markdown",
   "id": "08447b84",
   "metadata": {},
   "source": [
    "### 11. By using list comprehension, please write a program to print the list after removing deleted numbers that are divisible by 5 and 7 in [12,24,35,70,88,120,155]."
   ]
  },
  {
   "cell_type": "code",
   "execution_count": 51,
   "id": "2e55ab7e",
   "metadata": {},
   "outputs": [
    {
     "data": {
      "text/plain": [
       "[12, 24, 88]"
      ]
     },
     "execution_count": 51,
     "metadata": {},
     "output_type": "execute_result"
    }
   ],
   "source": [
    "lis = [12,24,35,70,88,120,155]\n",
    "\n",
    "[i for i in lis if i % 5 != 0 and i % 7 != 0] "
   ]
  },
  {
   "cell_type": "markdown",
   "id": "8e24a114",
   "metadata": {},
   "source": [
    "### 12. Write  a  program  to  compute  1/2+2/3+3/4+...+n/n+1  with  a  given  n  input  by console (n>0)"
   ]
  },
  {
   "cell_type": "code",
   "execution_count": 71,
   "id": "70e1e6c2",
   "metadata": {},
   "outputs": [
    {
     "name": "stdout",
     "output_type": "stream",
     "text": [
      "Enter n: 5\n",
      "5/6 + 4/5 + 3/4 + 2/3 + 1/2 + \n",
      "3.55\n"
     ]
    }
   ],
   "source": [
    "n = int(input(\"Enter n: \"))\n",
    "\n",
    "series_sum = 0\n",
    "series = \"\"\n",
    "for i in range(n, 0, -1):\n",
    "    series += f\"{i}/{i+1} + \"\n",
    "    series_sum = series_sum + (i/(i+1))\n",
    "\n",
    "print(series)\n",
    "print(series_sum)"
   ]
  },
  {
   "cell_type": "code",
   "execution_count": null,
   "id": "02017f21",
   "metadata": {},
   "outputs": [],
   "source": []
  }
 ],
 "metadata": {
  "kernelspec": {
   "display_name": "Python 3",
   "language": "python",
   "name": "python3"
  },
  "language_info": {
   "codemirror_mode": {
    "name": "ipython",
    "version": 3
   },
   "file_extension": ".py",
   "mimetype": "text/x-python",
   "name": "python",
   "nbconvert_exporter": "python",
   "pygments_lexer": "ipython3",
   "version": "3.8.8"
  }
 },
 "nbformat": 4,
 "nbformat_minor": 5
}
