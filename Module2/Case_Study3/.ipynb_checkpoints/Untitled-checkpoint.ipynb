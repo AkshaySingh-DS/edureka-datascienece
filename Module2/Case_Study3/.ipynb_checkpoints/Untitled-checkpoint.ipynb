{
 "cells": [
  {
   "cell_type": "markdown",
   "id": "5eef6322",
   "metadata": {},
   "source": [
    "<h1><center>Module 2 - CASE STUDY 3<center></h1>"
   ]
  },
  {
   "cell_type": "markdown",
   "id": "f66bf59b",
   "metadata": {},
   "source": [
    "**Domain – Telecom**\n",
    "\n",
    "**focus – Optimization**\n",
    "\n",
    "* Business challenge/requirement\n",
    "    \n",
    "    LifeTel Telecom is the latest entrant in the highly competitive Telecom market of Singapore. It issues SIM to the verified users. Till now verification was manual through the photocopy of the approved id card document. However, the government has recently introduced a Social ID called Reference ID which is mapped to the fingerprint of the user. LifeTel should now verify the user against the fingerprint and Reference ID\n",
    "    Key issues\n",
    "    Build a system where when a user enters Reference ID it is encrypted so that hackers cannot view the mapping of Reference ID and fingerprint\n",
    "\n",
    "\n",
    "* Business benefits\n",
    "\n",
    "    The company will be able to quickly issue SIM to the user and the expected gain in volume is approximately 10 times as the manual process of verification is replaced with a secure automated system\n",
    "\n",
    "\n",
    "* Approach to Solve\n",
    "\n",
    "    You must use the fundamentals of Python taught in module 1\n",
    "    1. Read the input from the command line – Reference ID\n",
    "    2. Check for validity – it should be 12 digits and allows for number and alphabet\n",
    "    3. Encrypt the Reference ID and print it for reference\n",
    "    \n",
    "        ``Enhancements for code``\n",
    "    \n",
    "    You can try these enhancements in code\n",
    "    1. Allow some special characters in ReferenceID\n",
    "    2. Give the option for decryption to the user"
   ]
  },
  {
   "cell_type": "code",
   "execution_count": 26,
   "id": "efb993da",
   "metadata": {
    "code_folding": []
   },
   "outputs": [
    {
     "name": "stdout",
     "output_type": "stream",
     "text": [
      "Enter refrence ID of 12 digit: AKSHAYSINGH\n",
      "Refrence ID AKSHAYSINGH is wrong, Please enter valid 12 DIGIT Refrence ID\n",
      "--------------------------------------------\n",
      "Enter refrence ID of 12 digit: AKSHAYSINGH1\n",
      "randomnly generated key is b'BpRoGyV71hTsg4fzAJwmn9XmiANC8Pr4N1eJGCeUzzA='\n",
      "original ID:  AKSHAYSINGH1\n",
      "encrypted ID:  b'gAAAAABlKjlarJjKArIyFZEZXfgYM1yHMozrax0Ng-4_RusAKo5vomnN9lK_6F2YgTUozgmNn0jMmYRwixxWQuU51HA47eUwUg=='\n",
      "decrypted ID:  AKSHAYSINGH1\n"
     ]
    }
   ],
   "source": [
    "#Symmetric-key Encryption \n",
    "#same key is going to use for encryption & decryption much simpler approach but less secure \n",
    "#Alternative more secure approach to use RSA (assymtric key encryption)\n",
    "\n",
    "from cryptography.fernet import Fernet\n",
    "\n",
    "def validate_refrenceID(ref_id):\n",
    "    return True if ref_id.isalnum() and len(ref_id) == 12 else False\n",
    "    \n",
    "def encrypt_decrypt_refrenceID(ref_id):\n",
    "    \n",
    "    if not validate_refrenceID(ref_id):\n",
    "        print(f\"Refrence ID {ref_id} is wrong, Please enter valid 12 DIGIT Refrence ID\")\n",
    "        return\n",
    "    \n",
    "    #generate a key for encryption and decryption , the key or use random key generator\n",
    "    key = Fernet.generate_key()\n",
    "    print(f\"randomnly generated key is {key}\")\n",
    "    \n",
    "    #Instance the Fernet class with the key\n",
    "    fernet = Fernet(key)\n",
    "    \n",
    "    #to encrypt the string string must be encoded to byte string before encryption\n",
    "    encryMsg = fernet.encrypt(ref_id.encode())\n",
    "    print(\"original ID: \", ref_id)\n",
    "    print(\"encrypted ID: \", encryMsg)\n",
    "    \n",
    "    #decrypt the encrypted string with the Fernet instance of the key,encoded byte string is returned by \n",
    "    #decrypt method, so decode it to string with decode methods\n",
    "\n",
    "    decryMsg = fernet.decrypt(encryMsg).decode()\n",
    "    print(\"decrypted ID: \", decryMsg)\n",
    "    \n",
    "    \n",
    "\n",
    "def main():\n",
    "    ref_id = input(\"Enter refrence ID of 12 digit: \")\n",
    "    encrypt_decrypt_refrenceID(ref_id)\n",
    "    \n",
    "main()\n",
    "print(\"--------------------------------------------\")\n",
    "main()"
   ]
  },
  {
   "cell_type": "code",
   "execution_count": null,
   "id": "61fadb5c",
   "metadata": {},
   "outputs": [],
   "source": []
  }
 ],
 "metadata": {
  "kernelspec": {
   "display_name": "Python 3",
   "language": "python",
   "name": "python3"
  },
  "language_info": {
   "codemirror_mode": {
    "name": "ipython",
    "version": 3
   },
   "file_extension": ".py",
   "mimetype": "text/x-python",
   "name": "python",
   "nbconvert_exporter": "python",
   "pygments_lexer": "ipython3",
   "version": "3.8.8"
  }
 },
 "nbformat": 4,
 "nbformat_minor": 5
}
